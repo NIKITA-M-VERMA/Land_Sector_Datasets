{
  "cells": [
    {
      "cell_type": "markdown",
      "metadata": {},
      "source": [
        "## Title: Global Dryland Assessment Data Set\n",
        "\n",
        "### Description\n",
        "The Global Dryland Assessment Data Set provides comprehensive information on dryland regions across the globe. The dataset includes geographic coordinates, aridity zones, land use categories, and tree cover information for various locations. It is crucial for understanding the distribution and characteristics of dryland regions, covering a significant portion of the Earth's surface. The dataset is compiled from multiple sources and has been pre-processed to ensure topological integrity and consistency.\n",
        "\n",
        "### FLINT\n",
        "This dataset has been pre-processed/checked and is suitable for use in FLINT. Please adhere to individual dataset license conditions and citations.\n",
        "\n",
        "### Format\n",
        "**Extent:** Global coverage  \n",
        "**Format:** vector point GeoJSON (.json)  \n",
        "**Coordinate system:** EPSG:4326 (WGS84)  \n",
        "**Year:** 2024  \n",
        "**Size:** Varies depending on the number of points  \n",
        "\n",
        "### Original Source\n",
        "Original Source: Compiled from various global dryland assessment studies and reports.  \n",
        "Vector - point (Feature Class, GeoJSON)\n",
        "\n",
        "### License\n",
        "Users may use and redistribute these data without explicit written permission, provided they adhere to the relevant restrictions and citation requirements. Users are advised to consult the data documentation for further information.\n",
        "\n",
        "### Citation\n",
        "Global Dryland Assessment Data Set (2024). Accessed from [https://www.science.org/doi/10.1126/science.aam6527](https://www.science.org/doi/10.1126/science.aam6527)\n",
        "\n",
        "### Metadata\n",
        "\n",
        "#### Columns:\n",
        "- `location_x`: Longitude of the location\n",
        "- `location_y`: Latitude of the location\n",
        "- `dryland_assessment_region`: Name of the dryland assessment region\n",
        "- `Aridity_zone`: Aridity zone classification\n",
        "- `land_use_category`: Land use category of the location\n",
        "- `tree_cover`: Tree cover percentage\n",
        "\n",
        "\n",
        "- `dataset_link`: [Global Dryland Assessment Dataset on Google Drive](https://drive.google.com/file/d/1uUVTK09ikjezsxx-zx9LG-9jQIhsFLK4/view?usp=drive_link)\n",
        "\n",
        "### Notes\n",
        "Known issues: Ensure consistency of tree cover data across different regions and years. Potential discrepancies in land use categories due to different classification systems used in source data.\n",
        "\n",
        "### Processing\n",
        "The dataset was transformed to EPSG:4326 (WGS84) and saved as GeoJSON format. The coordinates and attribute data were checked for consistency and accuracy."
      ]
    }
  ],
  "metadata": {
    "kernelspec": {
      "display_name": "Python 3",
      "language": "python",
      "name": "python3"
    },
    "language_info": {
      "codemirror_mode": {
        "name": "ipython",
        "version": 3
      },
      "file_extension": ".py",
      "mimetype": "text/x-python",
      "name": "python",
      "nbconvert_exporter": "python",
      "pygments_lexer": "ipython3",
      "version": "3.8.5"
    }
  },
  "nbformat": 4,
  "nbformat_minor": 4
}
